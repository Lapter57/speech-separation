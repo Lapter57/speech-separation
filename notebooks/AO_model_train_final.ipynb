{
 "cells": [
  {
   "cell_type": "code",
   "execution_count": null,
   "metadata": {},
   "outputs": [],
   "source": [
    "import sys\n",
    "sys.path.append(\"../lib\")\n",
    "from models import build_ao_model\n",
    "from generators import AudioGenerator\n",
    "import scipy.io.wavfile as wavfile\n",
    "import utils\n",
    "from tensorflow.keras.callbacks import EarlyStopping\n",
    "\n",
    "print('TensorFlow Version: {}'.format(tf.__version__))\n",
    "#Check for a GPU\n",
    "if not tf.test.gpu_device_name():\n",
    "    print('No GPU found. Please ensure you have installed TensorFlow correctly')\n",
    "else:\n",
    "    print('Default GPU Device: {}'.format(tf.test.gpu_device_name()))"
   ]
  },
  {
   "cell_type": "code",
   "execution_count": null,
   "metadata": {},
   "outputs": [],
   "source": [
    "MIX_TRAIN = \"../data/audio_train/mix\"\n",
    "MIX_TEST = \"../data/audio_test/mix\"\n",
    "CRM_TRAIN = \"../data/audio_train/crm\"\n",
    "CRM_TEST = \"../data/audio_test/crm\""
   ]
  },
  {
   "cell_type": "code",
   "execution_count": null,
   "metadata": {},
   "outputs": [],
   "source": [
    "early_stop = EarlyStopping(monitor=\"val_loss\", \n",
    "                           min_delta=0, \n",
    "                           patience=3, \n",
    "                           verbose=True, \n",
    "                           mode=\"auto\", \n",
    "                           baseline=None, \n",
    "                           restore_best_weights=False)\n",
    "callbacks = [early_stop]"
   ]
  },
  {
   "cell_type": "code",
   "execution_count": null,
   "metadata": {},
   "outputs": [],
   "source": [
    "epochs = 100\n",
    "initial_epoch=0\n",
    "batch_size = 4\n",
    "n_speakers = 2\n",
    "ao_model = build_ao_model(n_speakers)"
   ]
  },
  {
   "cell_type": "code",
   "execution_count": null,
   "metadata": {},
   "outputs": [],
   "source": [
    "mix_train_files = utils.get_files(MIX_TRAIN)\n",
    "crm_train_files = utils.get_files(CRM_TRAIN)\n",
    "\n",
    "mix_test_files = utils.get_files(MIX_TEST)\n",
    "crm_test_files = utils.get_files(CRM_TEST)"
   ]
  },
  {
   "cell_type": "code",
   "execution_count": null,
   "metadata": {},
   "outputs": [],
   "source": [
    "train_generator = AudioGenerator(mix_train_files, crm_train_files, n_speakers, batch_size)\n",
    "val_generator = AudioGenerator(mix_test_files, crm_test_files, n_speakers, batch_size)"
   ]
  },
  {
   "cell_type": "code",
   "execution_count": null,
   "metadata": {},
   "outputs": [],
   "source": [
    "ao_model.fit(train_generator,\n",
    "             validation_data=val_generator,\n",
    "             epochs=epochs,\n",
    "             verbose=True,\n",
    "             callbacks=callbacks,\n",
    "             initial_epoch=initial_epoch)"
   ]
  }
 ],
 "metadata": {
  "kernelspec": {
   "display_name": "lapter57",
   "language": "python",
   "name": "lapter57"
  }
 },
 "nbformat": 4,
 "nbformat_minor": 2
}