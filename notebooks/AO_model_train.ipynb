{
 "cells": [
  {
   "cell_type": "code",
   "execution_count": null,
   "metadata": {},
   "outputs": [],
   "source": [
    "import sys\n",
    "sys.path.append(\"../lib\")\n",
    "from models import build_ao_model\n",
    "from generators import AudioGenerator\n",
    "import scipy.io.wavfile as wavfile\n",
    "import utils\n",
    "from tensorflow.keras.callbacks import EarlyStopping"
   ]
  },
  {
   "cell_type": "code",
   "execution_count": null,
   "metadata": {},
   "outputs": [],
   "source": [
    "MIX_TRAIN = \"../data/audio_train/mix\"\n",
    "MIX_TEST = \"../data/audio_test/mix\"\n",
    "CRM_TRAIN = \"../data/audio_train/crm\"\n",
    "CRM_TEST = \"../data/audio_test/crm\""
   ]
  },
  {
   "cell_type": "code",
   "execution_count": null,
   "metadata": {},
   "outputs": [],
   "source": [
    "early_stop = EarlyStopping(monitor=\"val_loss\", \n",
    "                           min_delta=0, \n",
    "                           patience=3, \n",
    "                           verbose=True, \n",
    "                           mode=\"auto\", \n",
    "                           baseline=None, \n",
    "                           restore_best_weights=False)\n",
    "callbacks = [early_stop]"
   ]
  },
  {
   "cell_type": "code",
   "execution_count": null,
   "metadata": {},
   "outputs": [],
   "source": [
    "epochs = 100\n",
    "initial_epoch=0\n",
    "batch_size = 6\n",
    "n_speakers = 2\n",
    "ao_model = build_ao_model(n_speakers)"
   ]
  },
  {
   "cell_type": "code",
   "execution_count": null,
   "metadata": {},
   "outputs": [],
   "source": [
    "mix_train_files = utils.get_files(MIX_TRAIN)\n",
    "crm_train_files = utils.get_files(CRM_TRAIN)\n",
    "\n",
    "mix_test_files = utils.get_files(MIX_TEST)\n",
    "crm_test_files = utils.get_files(CRM_TEST)"
   ]
  },
  {
   "cell_type": "code",
   "execution_count": null,
   "metadata": {},
   "outputs": [],
   "source": [
    "train_generator = AudioGenerator(mix_train_files, crm_train_files, n_speakers, batch_size)"
   ]
  },
  {
   "cell_type": "code",
   "execution_count": null,
   "metadata": {},
   "outputs": [],
   "source": [
    "ao_model.fit_generator(generator=train_generator, \n",
    "                       epochs=epochs,\n",
    "                       initial_epoch=initial_epoch)"
   ]
  },
  {
   "cell_type": "code",
   "execution_count": null,
   "metadata": {},
   "outputs": [],
   "source": [
    "mix = np.load(mix_test_files[5])\n",
    "cRMs = ao_model.predict(np.expand_dims(mix, axis=0))\n",
    "cRMs = cRMs[0]\n",
    "for i in range(2):\n",
    "    cRM = cRMs[:,:,:,i]\n",
    "    assert cRM.shape == (298,257,2)\n",
    "    F = utils.icRM(mix,cRM)\n",
    "    T = utils.istft(F)\n",
    "    filename = str(i) + '.wav'\n",
    "    wavfile.write(filename,16000,T)"
   ]
  }
 ],
 "metadata": {
  "kernelspec": {
   "display_name": "Python 3",
   "language": "python",
   "name": "python3"
  },
  "language_info": {
   "codemirror_mode": {
    "name": "ipython",
    "version": 3
   },
   "file_extension": ".py",
   "mimetype": "text/x-python",
   "name": "python",
   "nbconvert_exporter": "python",
   "pygments_lexer": "ipython3",
   "version": "3.7.4"
  }
 },
 "nbformat": 4,
 "nbformat_minor": 4
}
