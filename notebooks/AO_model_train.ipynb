{
 "cells": [
  {
   "cell_type": "code",
   "execution_count": null,
   "metadata": {},
   "outputs": [],
   "source": [
    "import sys\n",
    "sys.path.append(\"../lib\")\n",
    "from models import build_ao_model\n",
    "from generators import AudioGenerator\n",
    "import scipy.io.wavfile as wavfile\n",
    "import utils\n",
    "from tensorflow.keras.callbacks import EarlyStopping\n",
    "\n",
    "import tensorflow as tf\n",
    "import numpy as np\n",
    "import math\n",
    "print('TensorFlow Version: {}'.format(tf.__version__))\n",
    "#Check for a GPU\n",
    "if not tf.test.gpu_device_name():\n",
    "    print('No GPU found. Please ensure you have installed TensorFlow correctly')\n",
    "else:\n",
    "    print('Default GPU Device: {}'.format(tf.test.gpu_device_name()))"
   ]
  },
  {
   "cell_type": "code",
   "execution_count": null,
   "metadata": {},
   "outputs": [],
   "source": [
    "from tensorflow.compat.v1 import ConfigProto\n",
    "from tensorflow.compat.v1 import InteractiveSession\n",
    "\n",
    "config = ConfigProto()\n",
    "config.gpu_options.allow_growth = True\n",
    "session = InteractiveSession(config=config)\n",
    "physical_devices = tf.config.experimental.list_physical_devices('GPU')\n",
    "tf.config.experimental.set_memory_growth(physical_devices[0], True)\n",
    "assert tf.config.experimental.get_memory_growth(physical_devices[0])"
   ]
  },
  {
   "cell_type": "code",
   "execution_count": null,
   "metadata": {},
   "outputs": [],
   "source": [
    "MIX_TRAIN = \"../data/audio_train/mix\"\n",
    "MIX_TEST = \"../data/audio_test/mix\"\n",
    "CRM_TRAIN = \"../data/audio_train/crm\"\n",
    "CRM_TEST = \"../data/audio_test/crm\""
   ]
  },
  {
   "cell_type": "code",
   "execution_count": null,
   "metadata": {},
   "outputs": [],
   "source": [
    "early_stop = EarlyStopping(monitor=\"val_loss\", \n",
    "                           min_delta=0, \n",
    "                           patience=3, \n",
    "                           verbose=True, \n",
    "                           mode=\"auto\", \n",
    "                           baseline=None, \n",
    "                           restore_best_weights=False)\n",
    "callbacks = [early_stop]"
   ]
  },
  {
   "cell_type": "code",
   "execution_count": null,
   "metadata": {},
   "outputs": [],
   "source": [
    "epochs = 100\n",
    "initial_epoch=0\n",
    "batch_size = 4\n",
    "n_speakers = 2\n",
    "ao_model = build_ao_model(n_speakers)"
   ]
  },
  {
   "cell_type": "code",
   "execution_count": null,
   "metadata": {},
   "outputs": [],
   "source": [
    "mix_train_files = utils.get_files(MIX_TRAIN)\n",
    "crm_train_files = utils.get_files(CRM_TRAIN)\n",
    "\n",
    "mix_test_files = utils.get_files(MIX_TEST)\n",
    "crm_test_files = utils.get_files(CRM_TEST)"
   ]
  },
  {
   "cell_type": "code",
   "execution_count": null,
   "metadata": {},
   "outputs": [],
   "source": [
    "Xdim = (298, 257, 2)\n",
    "Ydim = (298, 257, 2, 2)\n",
    "def prepare_data(mix_files, crm_files):\n",
    "    X = np.empty((mix_files.size, *Xdim))\n",
    "    y = np.empty((mix_files.size, *Ydim))\n",
    "    for i, ID in enumerate(mix_files):\n",
    "        X[i,] = np.load(ID)\n",
    "        mix_filename = utils.basename(ID)\n",
    "        cRMs = utils.find_paths_contains(mix_filename, crm_files)\n",
    "        for j, cRM in enumerate(cRMs):\n",
    "            y[i, :, :, :, j] = np.load(cRM)\n",
    "    return X, y"
   ]
  },
  {
   "cell_type": "code",
   "execution_count": null,
   "metadata": {},
   "outputs": [],
   "source": [
    "x, y = prepare_data(mix_train_files[:10], crm_train_files)\n",
    "train_ds = tf.data.Dataset.from_tensor_slices((x, y))\n",
    "train_dataset = train_ds.repeat().shuffle(10).batch(batch_size)"
   ]
  },
  {
   "cell_type": "code",
   "execution_count": null,
   "metadata": {},
   "outputs": [],
   "source": [
    "ao_model.fit(train_dataset,\n",
    "             epochs=epochs,\n",
    "             verbose=True,\n",
    "             callbacks=callbacks,\n",
    "             steps_per_epoch=math.ceil(10 / batch_size))"
   ]
  },
  {
   "cell_type": "code",
   "execution_count": null,
   "metadata": {},
   "outputs": [],
   "source": [
    "train_generator = AudioGenerator(mix_train_files[100:], crm_train_files, n_speakers, batch_size)\n",
    "val_generator = AudioGenerator(mix_test_files[10:], crm_test_files, n_speakers, batch_size)"
   ]
  },
  {
   "cell_type": "code",
   "execution_count": null,
   "metadata": {},
   "outputs": [],
   "source": [
    "ao_model.fit(train_generator,\n",
    "             validation_data=val_generator,\n",
    "             epochs=epochs,\n",
    "             verbose=True,\n",
    "             callbacks=callbacks,\n",
    "             initial_epoch=initial_epoch)"
   ]
  },
  {
   "cell_type": "code",
   "execution_count": null,
   "metadata": {},
   "outputs": [],
   "source": [
    "ao_model.fit(train_generator,\n",
    "             epochs=epochs,\n",
    "             verbose=True,\n",
    "             initial_epoch=initial_epoch)"
   ]
  },
  {
   "cell_type": "code",
   "execution_count": null,
   "metadata": {},
   "outputs": [],
   "source": [
    "ao_model.fit_generator(generator=train_generator,\n",
    "             epochs=epochs,\n",
    "             initial_epoch=initial_epoch)"
   ]
  },
  {
   "cell_type": "code",
   "execution_count": null,
   "metadata": {},
   "outputs": [],
   "source": [
    "mix = np.load(mix_test_files[5])\n",
    "cRMs = ao_model.predict(np.expand_dims(mix, axis=0))\n",
    "cRMs = cRMs[0]\n",
    "for i in range(n_speakers):\n",
    "    cRM = cRMs[:,:,:,i]\n",
    "    F = utils.icRM(mix,cRM)\n",
    "    T = utils.istft(F)\n",
    "    filename = str(i) + '.wav'\n",
    "    wavfile.write(filename, 16000, T)"
   ]
  }
 ],
 "metadata": {
  "kernelspec": {
   "display_name": "Python 3",
   "language": "python",
   "name": "python3"
  },
  "language_info": {
   "codemirror_mode": {
    "name": "ipython",
    "version": 3
   },
   "file_extension": ".py",
   "mimetype": "text/x-python",
   "name": "python",
   "nbconvert_exporter": "python",
   "pygments_lexer": "ipython3",
   "version": "3.7.6-final"
  }
 },
 "nbformat": 4,
 "nbformat_minor": 4
}