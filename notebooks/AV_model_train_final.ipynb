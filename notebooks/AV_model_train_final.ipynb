{
 "nbformat": 4,
 "nbformat_minor": 2,
 "metadata": {
  "language_info": {
   "name": "python",
   "codemirror_mode": {
    "name": "ipython",
    "version": 3
   }
  },
  "orig_nbformat": 2,
  "file_extension": ".py",
  "mimetype": "text/x-python",
  "name": "python",
  "npconvert_exporter": "python",
  "pygments_lexer": "ipython3",
  "version": 3
 },
 "cells": [
  {
   "cell_type": "code",
   "execution_count": null,
   "metadata": {},
   "outputs": [],
   "source": [
    "import sys\n",
    "import os\n",
    "sys.path.append(\"../lib\")\n",
    "from models import build_av_model\n",
    "from generators import AVGenerator\n",
    "import scipy.io.wavfile as wavfile\n",
    "import utils\n",
    "from tensorflow.keras.callbacks import EarlyStopping\n",
    "\n",
    "import tensorflow as tf\n",
    "import numpy as np\n",
    "import math\n",
    "print('TensorFlow Version: {}'.format(tf.__version__))\n",
    "#Check for a GPU\n",
    "if not tf.test.gpu_device_name():\n",
    "    print('No GPU found. Please ensure you have installed TensorFlow correctly')\n",
    "else:\n",
    "    print('Default GPU Device: {}'.format(tf.test.gpu_device_name()))"
   ]
  },
  {
   "cell_type": "code",
   "execution_count": null,
   "metadata": {},
   "outputs": [],
   "source": [
    "MIX_TRAIN = \"../data/audio_train/mix\"\n",
    "MIX_TEST = \"../data/audio_test/mix\"\n",
    "CRM_TRAIN = \"../data/audio_train/crm\"\n",
    "CRM_TEST = \"../data/audio_test/crm\"\n",
    "\n",
    "EMB_TRAIN = \"../data/emb/train\"\n",
    "EMB_TEST = \"../data/emb/test\""
   ]
  },
  {
   "cell_type": "code",
   "execution_count": null,
   "metadata": {},
   "outputs": [],
   "source": [
    "early_stop = EarlyStopping(monitor=\"val_loss\", \n",
    "                           min_delta=0, \n",
    "                           patience=3, \n",
    "                           verbose=True, \n",
    "                           mode=\"auto\", \n",
    "                           baseline=None, \n",
    "                           restore_best_weights=False)\n",
    "callbacks = [early_stop]"
   ]
  },
  {
   "cell_type": "code",
   "execution_count": null,
   "metadata": {},
   "outputs": [],
   "source": [
    "epochs = 100\n",
    "initial_epoch=0\n",
    "batch_size = 6\n",
    "n_speakers = 2\n",
    "av_model = build_av_model(n_speakers)"
   ]
  },
  {
   "cell_type": "code",
   "execution_count": null,
   "metadata": {},
   "outputs": [],
   "source": [
    "mix_train_files = utils.get_files(MIX_TRAIN)\n",
    "crm_train_files = utils.get_files(CRM_TRAIN)\n",
    "\n",
    "mix_test_files = utils.get_files(MIX_TEST)\n",
    "crm_test_files = utils.get_files(CRM_TEST)\n",
    "\n",
    "train_emb_files = utils.get_files(EMB_TRAIN)\n",
    "test_emb_files = utils.get_files(EMB_TEST)"
   ]
  },
  {
   "cell_type": "code",
   "execution_count": null,
   "metadata": {},
   "outputs": [],
   "source": [
    "train_generator = AVGenerator(mix_train_files, crm_train_files, train_emb_files, n_speakers, batch_size)\n",
    "val_generator = AVGenerator(mix_test_files, crm_test_files, test_emb_files, n_speakers, batch_size)"
   ]
  },
  {
   "cell_type": "code",
   "execution_count": null,
   "metadata": {},
   "outputs": [],
   "source": [
    "av_model.fit(train_generator,\n",
    "             validation_data=val_generator,\n",
    "             epochs=epochs,\n",
    "             verbose=True,\n",
    "             callbacks=callbacks,\n",
    "             initial_epoch=initial_epoch)"
   ]
  },
  {
   "cell_type": "code",
   "execution_count": null,
   "metadata": {},
   "outputs": [],
   "source": [
    "SAVE_MODEL_FOLDER = \"../data/saved/models\"\n",
    "utils.make_dirs(SAVE_MODEL_FOLDER)\n",
    "NAME_MODEL = \"av_model\"\n",
    "av_model.save(os.path.join(SAVE_MODEL_FOLDER, \"{}.h5\".format(NAME_MODEL)))"
   ]
  },
  {
   "cell_type": "code",
   "execution_count": null,
   "metadata": {},
   "outputs": [],
   "source": [
    "SAVE_AUDIO_FOLDER = \"../data/saved/audio\"\n",
    "utils.make_dirs(SAVE_AUDIO_FOLDER)\n",
    "MIX_TEST_FILE = mix_test_files[3]\n",
    "\n",
    "mix = np.load(MIX_TEST_FILE)\n",
    "cleans_name = utils.get_clean_in_mix(MIX_TEST_FILE)\n",
    "face_embs = np.zeros((1, 75, 1, 1792, n_speakers))\n",
    "for i in range(n_speakers):\n",
    "    face_embs[1, :, :, :, i] = np.load(os.path.join(EMB_TRAIN, \"{}.npy\".format(cleans_name[i])))\n",
    "\n",
    "cRMs = av_model.predict([np.expand_dims(mix, axis=0), face_embs])\n",
    "cRMs = cRMs[0]\n",
    "for i in range(n_speakers):\n",
    "    cRM = cRMs[ :, :, :, i]\n",
    "    F = utils.icRM(mix,cRM)\n",
    "    T = utils.istft(F)\n",
    "    filename = str(i) + '.wav'\n",
    "    wavfile.write(os.path.join(SAVE_AUDIO_FOLDER, filename), 16000, T)"
   ]
  }
 ]
}